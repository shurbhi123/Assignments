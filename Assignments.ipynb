{
 "cells": [
  {
   "cell_type": "markdown",
   "id": "d946bcb8-c82a-4439-8e82-c61f8088a64b",
   "metadata": {},
   "source": [
    "Q1. Create one variable containing following type of data:"
   ]
  },
  {
   "cell_type": "markdown",
   "id": "4885692c-3d1c-4f15-ba24-5fd1dbfb6e32",
   "metadata": {},
   "source": [
    "ANS(i): 'a'\n",
    "   (ii): [2,3,'b',True]\n",
    "   (iii): 63.4678\n",
    "   (iv): (1,2,3) "
   ]
  },
  {
   "cell_type": "markdown",
   "id": "0505893e-86ed-43ba-9b68-652256279f86",
   "metadata": {},
   "source": [
    "(i) string\n",
    "(ii) list\n",
    "(iii) float\n",
    "(iv) tuple"
   ]
  },
  {
   "cell_type": "markdown",
   "id": "81ce83d0-715c-4897-afe6-54f6547be4e7",
   "metadata": {},
   "source": [
    "Q2. Given are some following variables containing data:"
   ]
  },
  {
   "cell_type": "markdown",
   "id": "740a81ac-d24e-43bf-9807-ed763e33d43b",
   "metadata": {},
   "source": [
    "(i) var1 = ‘ ‘\n",
    "(ii) var2 = ‘[ DS , ML , Python]’\n",
    "(iii) var3 = [ ‘DS’ , ’ML’ , ‘Python’ ]\n",
    "(iv) var4 = 1."
   ]
  },
  {
   "cell_type": "markdown",
   "id": "45fc26d5-f97b-488b-ae45-ddfc7cb94242",
   "metadata": {},
   "source": [
    "ANS(i) : string\n",
    "ANS(ii) : string\n",
    "ANS(iii) : list\n",
    "ANS(iv) : integer"
   ]
  },
  {
   "cell_type": "markdown",
   "id": "77ae502e-1a19-49b4-8a6b-822c258e1e53",
   "metadata": {},
   "source": [
    "Q3. Explain the use of the following operators using an example:"
   ]
  },
  {
   "cell_type": "markdown",
   "id": "986017cb-d66b-4202-a032-2c9d0638c428",
   "metadata": {},
   "source": [
    "(i) /\n",
    "(ii) %\n",
    "(iii) //\n",
    "(iv) **"
   ]
  },
  {
   "cell_type": "markdown",
   "id": "fbe44b91-c1ed-4421-8be9-58bf07c1365c",
   "metadata": {},
   "source": [
    "ANS(i) : it is a airthmatic operator which is used to get a quotient\n",
    "ANS(i) : it is a modulas operator which is used to get a remainder\n",
    "ANS(iii) : it is used for division flour\n",
    "ANS(iv) : it is used for power of a number \n",
    "ex: 2**4 = 16"
   ]
  },
  {
   "cell_type": "markdown",
   "id": "78af220f-d957-44d5-ba0f-f726621cee10",
   "metadata": {},
   "source": [
    "Q4. Create a list of length 10 of your choice containing multiple types of data. Using for loop print the\n",
    "element and its data type."
   ]
  },
  {
   "cell_type": "code",
   "execution_count": 1,
   "id": "45c3b15c-585f-4114-a4e5-05cf1fe5ec6e",
   "metadata": {},
   "outputs": [],
   "source": [
    "l = [2,3,4,5,\"ram\",\"sita\",45.34,True,False,6+3j]"
   ]
  },
  {
   "cell_type": "code",
   "execution_count": 2,
   "id": "467da283-7abf-47a8-b9fa-3e809fc70808",
   "metadata": {},
   "outputs": [
    {
     "name": "stdout",
     "output_type": "stream",
     "text": [
      "<class 'int'>\n",
      "<class 'int'>\n",
      "<class 'int'>\n",
      "<class 'int'>\n",
      "<class 'str'>\n",
      "<class 'str'>\n",
      "<class 'float'>\n",
      "<class 'bool'>\n",
      "<class 'bool'>\n",
      "<class 'complex'>\n"
     ]
    }
   ],
   "source": [
    "for i in l :\n",
    "    print(type(i))"
   ]
  },
  {
   "cell_type": "markdown",
   "id": "d0b9308e-d0fb-41e2-ac2f-0280535f4b1d",
   "metadata": {},
   "source": [
    "Q5. Using a while loop, verify if the number A is purely divisible by number B and if so then how many\n",
    "times it can be divisible."
   ]
  },
  {
   "cell_type": "code",
   "execution_count": 12,
   "id": "e781136a-1652-45db-99f0-2419f612d6d3",
   "metadata": {},
   "outputs": [
    {
     "name": "stdout",
     "output_type": "stream",
     "text": [
      "a is divisible by b 2 times\n"
     ]
    }
   ],
   "source": [
    "a = 4\n",
    "b = 2\n",
    "counter = 0\n",
    "while a % b == 0:\n",
    "    counter += 1\n",
    "    a = a // b\n",
    "print(\"a is divisible by b\", counter, \"times\")   "
   ]
  },
  {
   "cell_type": "markdown",
   "id": "50ff9132-e8fc-4b2b-a919-05c6e35ff773",
   "metadata": {},
   "source": [
    "Q6. Create a list containing 25 int type data. Using for loop and if-else condition print if the element is\n",
    "divisible by 3 or not."
   ]
  },
  {
   "cell_type": "code",
   "execution_count": 2,
   "id": "ee7ae1da-2733-490d-974f-19ef4f137299",
   "metadata": {},
   "outputs": [
    {
     "name": "stdout",
     "output_type": "stream",
     "text": [
      "1 is not divisible by 3\n",
      "2 is not divisible by 3\n",
      "3 is divisible by 3\n",
      "4 is not divisible by 3\n",
      "5 is not divisible by 3\n",
      "6 is divisible by 3\n",
      "7 is not divisible by 3\n",
      "8 is not divisible by 3\n",
      "9 is divisible by 3\n",
      "10 is not divisible by 3\n",
      "11 is not divisible by 3\n",
      "12 is divisible by 3\n",
      "13 is not divisible by 3\n",
      "14 is not divisible by 3\n",
      "15 is divisible by 3\n",
      "16 is not divisible by 3\n",
      "17 is not divisible by 3\n",
      "18 is divisible by 3\n",
      "19 is not divisible by 3\n",
      "20 is not divisible by 3\n",
      "21 is divisible by 3\n",
      "22 is not divisible by 3\n",
      "23 is not divisible by 3\n",
      "24 is divisible by 3\n",
      "25 is not divisible by 3\n"
     ]
    }
   ],
   "source": [
    "i = [1, 2, 3, 4, 5, 6, 7, 8, 9, 10, 11, 12, 13, 14, 15, 16, 17, 18, 19, 20, 21, 22, 23, 24, 25]\n",
    "for element in i:\n",
    "    if element % 3 == 0:\n",
    "        print(element, \"is divisible by 3\")\n",
    "    else:\n",
    "        print(element, \"is not divisible by 3\")"
   ]
  },
  {
   "cell_type": "markdown",
   "id": "632abfe5-8b12-42e5-a608-e439c3ab2005",
   "metadata": {},
   "source": [
    "Q7. What do you understand about mutable and immutable data types? Give examples for both showing\n",
    "this property."
   ]
  },
  {
   "cell_type": "markdown",
   "id": "dd4e3a18-ac82-4d79-977a-1227447e26f4",
   "metadata": {},
   "source": [
    "ANS- a mutable data type is one that allows you to modify the value of a variable in place, without creating new object.\n",
    "    a immutable data type is one that does not allow you to change the value of a variable in place, but only create a new object with a different value."
   ]
  },
  {
   "cell_type": "markdown",
   "id": "0f1f7033-e58f-4900-b806-c7ebcc0ba4b3",
   "metadata": {},
   "source": [
    "Mutable Example ="
   ]
  },
  {
   "cell_type": "code",
   "execution_count": 1,
   "id": "a14698da-1e90-485a-86d6-18087c6c5bb2",
   "metadata": {},
   "outputs": [],
   "source": [
    "i = [1, 2, 3, 4, 5, 'pwskills']"
   ]
  },
  {
   "cell_type": "code",
   "execution_count": 3,
   "id": "507df933-77ca-4958-96c9-d6606422811e",
   "metadata": {},
   "outputs": [],
   "source": [
    "i [2] = 7"
   ]
  },
  {
   "cell_type": "code",
   "execution_count": 4,
   "id": "f1b2083c-f0da-4515-8321-0a0df4947d0a",
   "metadata": {},
   "outputs": [
    {
     "data": {
      "text/plain": [
       "[1, 2, 7, 4, 5, 'pwskills']"
      ]
     },
     "execution_count": 4,
     "metadata": {},
     "output_type": "execute_result"
    }
   ],
   "source": [
    "i"
   ]
  },
  {
   "cell_type": "code",
   "execution_count": 6,
   "id": "52313988-38c9-47e7-95cd-d3699c6d8f54",
   "metadata": {},
   "outputs": [],
   "source": [
    "i [5] = 'sita'"
   ]
  },
  {
   "cell_type": "code",
   "execution_count": 7,
   "id": "e66b30f0-bfab-4e71-9d2c-0a6e936c39a6",
   "metadata": {},
   "outputs": [
    {
     "data": {
      "text/plain": [
       "[1, 2, 7, 4, 5, 'sita']"
      ]
     },
     "execution_count": 7,
     "metadata": {},
     "output_type": "execute_result"
    }
   ],
   "source": [
    "i"
   ]
  },
  {
   "cell_type": "markdown",
   "id": "6e1a9aa7-3d17-47ea-adc8-1f4cf7a74153",
   "metadata": {},
   "source": [
    "As we can see, lists are mutable."
   ]
  },
  {
   "cell_type": "markdown",
   "id": "34357d50-98b0-41a8-bd8f-93b4652c70a5",
   "metadata": {},
   "source": [
    "Immutable Example ="
   ]
  },
  {
   "cell_type": "code",
   "execution_count": 8,
   "id": "d3cb9e29-b2d5-4468-8265-a85a4af20f2b",
   "metadata": {},
   "outputs": [],
   "source": [
    "l = \"pwskills\""
   ]
  },
  {
   "cell_type": "code",
   "execution_count": 9,
   "id": "cdfd517f-3619-40b8-b68b-4bec8a59cdbe",
   "metadata": {},
   "outputs": [
    {
     "data": {
      "text/plain": [
       "'s'"
      ]
     },
     "execution_count": 9,
     "metadata": {},
     "output_type": "execute_result"
    }
   ],
   "source": [
    "l [2]"
   ]
  },
  {
   "cell_type": "code",
   "execution_count": 11,
   "id": "45393f21-b78d-4afa-80d9-185290bedacf",
   "metadata": {},
   "outputs": [
    {
     "ename": "NameError",
     "evalue": "name 'a' is not defined",
     "output_type": "error",
     "traceback": [
      "\u001b[0;31m---------------------------------------------------------------------------\u001b[0m",
      "\u001b[0;31mNameError\u001b[0m                                 Traceback (most recent call last)",
      "Cell \u001b[0;32mIn[11], line 1\u001b[0m\n\u001b[0;32m----> 1\u001b[0m l [\u001b[38;5;241m4\u001b[39m] \u001b[38;5;241m=\u001b[39m \u001b[43ma\u001b[49m\n",
      "\u001b[0;31mNameError\u001b[0m: name 'a' is not defined"
     ]
    }
   ],
   "source": [
    "l [4] = a"
   ]
  },
  {
   "cell_type": "markdown",
   "id": "467ce389-c869-4659-b2e3-37016bd49785",
   "metadata": {},
   "source": [
    "In a string we can not change in a particular index. \n",
    "so string is immutable."
   ]
  },
  {
   "cell_type": "code",
   "execution_count": null,
   "id": "bed9212d-d44b-43fb-912c-a6a63e46d507",
   "metadata": {},
   "outputs": [],
   "source": []
  }
 ],
 "metadata": {
  "kernelspec": {
   "display_name": "Python 3 (ipykernel)",
   "language": "python",
   "name": "python3"
  },
  "language_info": {
   "codemirror_mode": {
    "name": "ipython",
    "version": 3
   },
   "file_extension": ".py",
   "mimetype": "text/x-python",
   "name": "python",
   "nbconvert_exporter": "python",
   "pygments_lexer": "ipython3",
   "version": "3.10.8"
  }
 },
 "nbformat": 4,
 "nbformat_minor": 5
}
